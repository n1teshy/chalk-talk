{
 "cells": [
  {
   "cell_type": "code",
   "execution_count": null,
   "metadata": {},
   "outputs": [],
   "source": [
    "#Bi-neural perceptron\n",
    "\n",
    "import random\n",
    "import matplotlib.pyplot as plt"
   ]
  },
  {
   "cell_type": "code",
   "execution_count": null,
   "metadata": {},
   "outputs": [],
   "source": [
    "NEURON_COUNT = 2\n",
    "\n",
    "parameters = [random.randint(0, 1000000) for _ in range(NEURON_COUNT)]\n",
    "print(f\"parameters are initialized to {parameters}\")\n",
    "print(\"- \" * 10)\n",
    "\n",
    "def train_neurons(x, y):\n",
    "    predictions = []\n",
    "    for i in range(len(parameters)):\n",
    "        x = x + parameters[i]\n",
    "        predictions.append(x)\n",
    "    expected = y\n",
    "    for i in range(len(parameters) - 1, -1, -1):\n",
    "        loss = expected - predictions[i]\n",
    "        parameters[i]  = parameters[i] + 0.01 * loss\n",
    "    return predictions[-1]\n",
    "\n",
    "\n",
    "def predict(x):\n",
    "    for i in range(len(parameters)):\n",
    "        x = x + parameters[i]\n",
    "    return x\n",
    "\n",
    "\n",
    "Xs = [i for i in range(1, 1001)]\n",
    "Ys = [i + 1 for i in Xs]\n",
    "\n",
    "for i in range(10):\n",
    "    print(f\"input: {Xs[i]}, output: {Ys[i]:.2f}\")"
   ]
  },
  {
   "cell_type": "code",
   "execution_count": null,
   "metadata": {},
   "outputs": [],
   "source": [
    "errors = []\n",
    "for i in range(len(Xs)):\n",
    "    pred_y = train_neurons(Xs[i], Ys[i])\n",
    "    error = abs(Ys[i] - pred_y) / Ys[i] * 100\n",
    "    errors.append(error)\n",
    "    print(f\"{i+1:d}) expected {Ys[i]:.2f}, predicted {pred_y:.2f}, {error:.2f}% error\")\n",
    "\n",
    "print(f\"average errors is {float(sum(errors)/len(errors)):.2f}%\")"
   ]
  },
  {
   "cell_type": "code",
   "execution_count": null,
   "metadata": {},
   "outputs": [],
   "source": [
    "plt.plot(list(range(len(errors))[:200]), errors[:200])\n",
    "plt.xlabel(\"Training iterations\")\n",
    "plt.ylabel(\"Error\")\n",
    "plt.show()"
   ]
  }
 ],
 "metadata": {
  "kernelspec": {
   "display_name": "Python 3",
   "language": "python",
   "name": "python3"
  },
  "language_info": {
   "codemirror_mode": {
    "name": "ipython",
    "version": 3
   },
   "file_extension": ".py",
   "mimetype": "text/x-python",
   "name": "python",
   "nbconvert_exporter": "python",
   "pygments_lexer": "ipython3",
   "version": "3.11.4"
  }
 },
 "nbformat": 4,
 "nbformat_minor": 2
}

{
 "cells": [
  {
   "cell_type": "code",
   "execution_count": 66,
   "metadata": {},
   "outputs": [],
   "source": [
    "import random\n",
    "from autograd import Value, print_map"
   ]
  },
  {
   "cell_type": "code",
   "execution_count": 129,
   "metadata": {},
   "outputs": [],
   "source": [
    "V = [Value(random.randint(1, 6)) for _ in range(2)]\n",
    "a, b = V\n",
    "x = Value(random.randint(1, 10))"
   ]
  },
  {
   "cell_type": "code",
   "execution_count": 130,
   "metadata": {},
   "outputs": [],
   "source": [
    "def f(x):\n",
    "    return (a * x) + b\n",
    "\n",
    "\n",
    "def backward(x):\n",
    "    x.grad = 1\n",
    "    x.backward()\n",
    "\n",
    "\n",
    "def print_w():\n",
    "    print(f\"variables -> {', '.join([f'{chr(97 + i)}: {V[i].data}' for i in range(len(V))])}\")\n",
    "\n",
    "\n",
    "def print_grads():\n",
    "    print(f\"grads -> {', '.join([f'{chr(97 + i)}: {V[i].grad}' for i in range(len(V))])}\")\n",
    "\n",
    "\n",
    "def reset_grads():\n",
    "    for w in V:\n",
    "        w.grad = 0\n",
    "    x.grad = 0"
   ]
  },
  {
   "cell_type": "code",
   "execution_count": 131,
   "metadata": {},
   "outputs": [
    {
     "name": "stdout",
     "output_type": "stream",
     "text": [
      "variables -> a: 4, b: 1\n"
     ]
    }
   ],
   "source": [
    "print_w()"
   ]
  },
  {
   "cell_type": "code",
   "execution_count": 132,
   "metadata": {},
   "outputs": [
    {
     "name": "stdout",
     "output_type": "stream",
     "text": [
      "x: 1, y1: 5\n",
      "grads -> a: 1, b: 1\n"
     ]
    }
   ],
   "source": [
    "y1 = f(x)\n",
    "print(f\"x: {x.data}, y1: {y1.data}\")\n",
    "backward(y1)\n",
    "print_grads()"
   ]
  },
  {
   "cell_type": "code",
   "execution_count": 133,
   "metadata": {},
   "outputs": [],
   "source": [
    "a += -1"
   ]
  },
  {
   "cell_type": "code",
   "execution_count": 135,
   "metadata": {},
   "outputs": [
    {
     "name": "stdout",
     "output_type": "stream",
     "text": [
      "y2: 4, y2 - y1: -1\n",
      "variables -> a: 4, b: 1\n",
      "grads -> a: 4, b: 3\n"
     ]
    }
   ],
   "source": [
    "y2 = f(x)\n",
    "print(f\"y2: {y2.data}, y2 - y1: {(y2 - y1).data}\")\n",
    "backward(y2)\n",
    "print_w()\n",
    "print_grads()"
   ]
  },
  {
   "cell_type": "code",
   "execution_count": 72,
   "metadata": {},
   "outputs": [],
   "source": [
    "# automated gradient descent"
   ]
  }
 ],
 "metadata": {
  "kernelspec": {
   "display_name": "Python 3",
   "language": "python",
   "name": "python3"
  },
  "language_info": {
   "codemirror_mode": {
    "name": "ipython",
    "version": 3
   },
   "file_extension": ".py",
   "mimetype": "text/x-python",
   "name": "python",
   "nbconvert_exporter": "python",
   "pygments_lexer": "ipython3",
   "version": "3.11.4"
  }
 },
 "nbformat": 4,
 "nbformat_minor": 2
}

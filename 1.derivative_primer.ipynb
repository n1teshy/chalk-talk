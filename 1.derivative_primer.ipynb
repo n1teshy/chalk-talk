{
 "cells": [
  {
   "cell_type": "code",
   "execution_count": 23,
   "metadata": {},
   "outputs": [],
   "source": [
    "import random\n",
    "from autograd import Value, print_map"
   ]
  },
  {
   "cell_type": "code",
   "execution_count": 24,
   "metadata": {},
   "outputs": [],
   "source": [
    "W = [Value(random.randint(1, 6)) for _ in range(3)]\n",
    "a, b, c = W"
   ]
  },
  {
   "cell_type": "code",
   "execution_count": 25,
   "metadata": {},
   "outputs": [
    {
     "name": "stdout",
     "output_type": "stream",
     "text": [
      "a: 2, b: 5, c: 3\n"
     ]
    }
   ],
   "source": [
    "# print(a)\n",
    "print(f\"a: {a.data}, b: {b.data}, c: {c.data}\")"
   ]
  },
  {
   "cell_type": "code",
   "execution_count": 26,
   "metadata": {},
   "outputs": [],
   "source": [
    "def f():\n",
    "    return a * b + c\n",
    "\n",
    "\n",
    "def backward(x):\n",
    "    reset_grads()\n",
    "    x.grad = 1\n",
    "    x.backward()\n",
    "\n",
    "\n",
    "def print_grads():\n",
    "    print(f\"grads -> {', '.join([f'{chr(97 + i)}: {W[i].grad}' for i in range(len(W))])}\")\n",
    "\n",
    "\n",
    "def reset_grads():\n",
    "    for w in W:\n",
    "        w.grad = 0"
   ]
  },
  {
   "cell_type": "code",
   "execution_count": 27,
   "metadata": {},
   "outputs": [
    {
     "name": "stdout",
     "output_type": "stream",
     "text": [
      "y1: 13\n",
      "grads -> a: 5, b: 2, c: 1\n"
     ]
    }
   ],
   "source": [
    "y1 = f()\n",
    "print(f\"y1: {y1.data}\")\n",
    "backward(y1)\n",
    "print_grads()"
   ]
  },
  {
   "cell_type": "code",
   "execution_count": 28,
   "metadata": {},
   "outputs": [],
   "source": [
    "c += -1"
   ]
  },
  {
   "cell_type": "code",
   "execution_count": 29,
   "metadata": {},
   "outputs": [
    {
     "name": "stdout",
     "output_type": "stream",
     "text": [
      "y2: 12\n",
      "y2 - y1: -1\n"
     ]
    }
   ],
   "source": [
    "y2 = f()\n",
    "print(f\"y2: {y2.data}\")\n",
    "print(f\"y2 - y1: {(y2 - y1).data}\")"
   ]
  }
 ],
 "metadata": {
  "kernelspec": {
   "display_name": "Python 3",
   "language": "python",
   "name": "python3"
  },
  "language_info": {
   "codemirror_mode": {
    "name": "ipython",
    "version": 3
   },
   "file_extension": ".py",
   "mimetype": "text/x-python",
   "name": "python",
   "nbconvert_exporter": "python",
   "pygments_lexer": "ipython3",
   "version": "3.11.4"
  }
 },
 "nbformat": 4,
 "nbformat_minor": 2
}

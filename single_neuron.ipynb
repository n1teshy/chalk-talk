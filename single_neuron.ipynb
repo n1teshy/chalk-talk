{
 "cells": [
  {
   "cell_type": "code",
   "execution_count": null,
   "metadata": {},
   "outputs": [],
   "source": [
    "# Uni-neural perceptron\n",
    "\n",
    "import random\n",
    "import matplotlib.pyplot as plt"
   ]
  },
  {
   "cell_type": "code",
   "execution_count": null,
   "metadata": {},
   "outputs": [],
   "source": [
    "parameter = random.randint(0, 1000000)\n",
    "print(f\"parameter is initialized to {parameter}\")\n",
    "print(\"- \" * 10)\n",
    "\n",
    "def train_neuron(x, y):\n",
    "    global parameter\n",
    "    predicted_y = x + parameter\n",
    "    loss = y - predicted_y\n",
    "    parameter = parameter +  0.01 * loss\n",
    "    return predicted_y\n",
    "\n",
    "\n",
    "def predict(x):\n",
    "    global parameter\n",
    "    return x + parameter\n",
    "\n",
    "\n",
    "Xs = [i for i in range(1, 1001)]\n",
    "Ys = [i + 1 for i in Xs]\n",
    "\n",
    "for i in range(10):\n",
    "    print(f\"input: {Xs[i]}, output: {Ys[i]:.2f}\")"
   ]
  },
  {
   "cell_type": "code",
   "execution_count": null,
   "metadata": {},
   "outputs": [],
   "source": [
    "errors = []\n",
    "for i in range(len(Xs)):\n",
    "    pred_y = train_neuron(Xs[i], Ys[i])\n",
    "    error = abs(Ys[i] - pred_y) / Ys[i] * 100\n",
    "    errors.append(error)\n",
    "    print(f\"{i+1:d}) expected {Ys[i]:.2f}, predicted {pred_y:.2f}, {error:.2f}% error\")\n",
    "\n",
    "print(f\"average errors is {sum(errors)/len(errors)}\")"
   ]
  },
  {
   "cell_type": "code",
   "execution_count": null,
   "metadata": {},
   "outputs": [],
   "source": [
    "plt.plot(list(range(len(errors))[:200]), errors[:200])\n",
    "plt.xlabel(\"Training iterations\")\n",
    "plt.ylabel(\"Error\")\n",
    "plt.show()"
   ]
  }
 ],
 "metadata": {
  "kernelspec": {
   "display_name": "Python 3",
   "language": "python",
   "name": "python3"
  },
  "language_info": {
   "codemirror_mode": {
    "name": "ipython",
    "version": 3
   },
   "file_extension": ".py",
   "mimetype": "text/x-python",
   "name": "python",
   "nbconvert_exporter": "python",
   "pygments_lexer": "ipython3",
   "version": "3.11.4"
  }
 },
 "nbformat": 4,
 "nbformat_minor": 2
}

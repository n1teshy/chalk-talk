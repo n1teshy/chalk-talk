{
 "cells": [
  {
   "cell_type": "code",
   "execution_count": 3,
   "metadata": {},
   "outputs": [],
   "source": [
    "import random\n",
    "from autograd import Value, print_map"
   ]
  },
  {
   "cell_type": "code",
   "execution_count": 16,
   "metadata": {},
   "outputs": [],
   "source": [
    "w = Value(random.randint(0, 1e3))"
   ]
  },
  {
   "cell_type": "code",
   "execution_count": 19,
   "metadata": {},
   "outputs": [],
   "source": [
    "def f(x):\n",
    "    return w + x\n",
    "\n",
    "\n",
    "def loss_fn(pred, target):\n",
    "    return (pred - target) ** 2\n",
    "\n",
    "\n",
    "def backprop(x):\n",
    "    x.grad = 1\n",
    "    x.backward()\n",
    "\n",
    "\n",
    "def print_grads():\n",
    "    print(f\"grads -> w: {w.grad}\")\n",
    "\n",
    "\n",
    "def reset_grads():\n",
    "    w.grad = 0"
   ]
  },
  {
   "cell_type": "code",
   "execution_count": 18,
   "metadata": {},
   "outputs": [
    {
     "name": "stdout",
     "output_type": "stream",
     "text": [
      "x: 54, c1: 81\n"
     ]
    }
   ],
   "source": [
    "x = random.randint(0, 100)\n",
    "c1 = f(x)\n",
    "print(f\"x: {x}, c1: {c1.data}\")"
   ]
  },
  {
   "cell_type": "code",
   "execution_count": 12,
   "metadata": {},
   "outputs": [
    {
     "name": "stdout",
     "output_type": "stream",
     "text": [
      "grads -> a: 4, b: 2\n"
     ]
    }
   ],
   "source": [
    "backprop(c1)\n",
    "print_grads()\n",
    "w -= 1"
   ]
  },
  {
   "cell_type": "code",
   "execution_count": 13,
   "metadata": {},
   "outputs": [],
   "source": [
    "# a + dA\n",
    "# c1 -> +=(a.grad * dA)"
   ]
  },
  {
   "cell_type": "code",
   "execution_count": 14,
   "metadata": {},
   "outputs": [
    {
     "name": "stdout",
     "output_type": "stream",
     "text": [
      "c2: 4\n"
     ]
    }
   ],
   "source": [
    "c2 = f()\n",
    "print(f\"c2: {c2.data}\")"
   ]
  }
 ],
 "metadata": {
  "kernelspec": {
   "display_name": "Python 3",
   "language": "python",
   "name": "python3"
  },
  "language_info": {
   "codemirror_mode": {
    "name": "ipython",
    "version": 3
   },
   "file_extension": ".py",
   "mimetype": "text/x-python",
   "name": "python",
   "nbconvert_exporter": "python",
   "pygments_lexer": "ipython3",
   "version": "3.11.4"
  }
 },
 "nbformat": 4,
 "nbformat_minor": 2
}
